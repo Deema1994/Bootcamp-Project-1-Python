{
 "cells": [
  {
   "cell_type": "code",
   "execution_count": null,
   "metadata": {},
   "outputs": [],
   "source": [
    "#####            Recruitment Platform           #######"
   ]
  },
  {
   "cell_type": "code",
   "execution_count": 244,
   "metadata": {},
   "outputs": [],
   "source": [
    "###  positions dictionary \n",
    "\n",
    "positions = {\n",
    "    \n",
    "    1: {\n",
    "        \"Name\": \"HR Manager\",\n",
    "        \"qualification\": \"Master\",\n",
    "        \"jobVacancy\": 1\n",
    "    },\n",
    "    \n",
    "    2: {\n",
    "        \"Name\": \"IT Specialist\",\n",
    "        \"qualification\": \"Bachelor\",\n",
    "        \"jobVacancy\": 2\n",
    "    },\n",
    "    \n",
    "    3:{\n",
    "        \"Name\": \"Sales Specialist\",\n",
    "        \"qualification\": \"Bachelor\",\n",
    "        \"jobVacancy\": 2\n",
    "    },\n",
    "    \n",
    "    4:{\n",
    "        \"Name\": \"Procurments Specialist\",\n",
    "        \"qualification\": \"Bachelor\",\n",
    "        \"jobVacancy\": 3\n",
    "    },\n",
    "    \n",
    "    5:{\n",
    "        \"Name\": \"Translator\",\n",
    "        \"qualification\": \"Bachelor\",\n",
    "        \"jobVacancy\": 1\n",
    "    },\n",
    "    \n",
    "    6:{\n",
    "        \"Name\": \"Database Administrator\",\n",
    "        \"qualification\": \"Master\",\n",
    "        \"jobVacancy\": 2\n",
    "    },\n",
    "    \n",
    "    7:{\n",
    "        \"Name\": \"Web Developer\",\n",
    "        \"qualification\": \"Bachelor\",\n",
    "        \"jobVacancy\": 0\n",
    "    },\n",
    "    \n",
    "    8:{\n",
    "        \"Name\": \"Business Analyst\",\n",
    "        \"qualification\": \"Bachelor\",\n",
    "        \"jobVacancy\": 3\n",
    "    }\n",
    " \n",
    "}\n"
   ]
  },
  {
   "cell_type": "code",
   "execution_count": 245,
   "metadata": {},
   "outputs": [
    {
     "name": "stdout",
     "output_type": "stream",
     "text": [
      "{1: {'Name': 'HR Manager', 'qualification': 'Master', 'jobVacancy': 1}, 2: {'Name': 'IT Specialist', 'qualification': 'Bachelor', 'jobVacancy': 2}, 3: {'Name': 'Sales Specialist', 'qualification': 'Bachelor', 'jobVacancy': 2}, 4: {'Name': 'Procurments Specialist', 'qualification': 'Bachelor', 'jobVacancy': 3}, 5: {'Name': 'Translator', 'qualification': 'Bachelor', 'jobVacancy': 1}, 6: {'Name': 'Database Administrator', 'qualification': 'Master', 'jobVacancy': 2}, 7: {'Name': 'Web Developer', 'qualification': 'Bachelor', 'jobVacancy': 0}, 8: {'Name': 'Business Analyst', 'qualification': 'Bachelor', 'jobVacancy': 3}}\n"
     ]
    }
   ],
   "source": [
    "## View positions dictionary\n",
    "print (positions)"
   ]
  },
  {
   "cell_type": "code",
   "execution_count": 246,
   "metadata": {
    "scrolled": false
   },
   "outputs": [],
   "source": [
    "## initialize applicant dictionary   /// kindly don't run this line because the list is already initialized by me \n",
    "applicant = {} \n",
    "id = 1  # initialize the first ID \n"
   ]
  },
  {
   "cell_type": "code",
   "execution_count": 253,
   "metadata": {
    "scrolled": false
   },
   "outputs": [],
   "source": [
    "##  Add new  Applicant\n",
    "def addApplicant():\n",
    "    \n",
    "    \n",
    "    name = input(\"Name: \")\n",
    "    qualification = input (\"qualification: \")\n",
    "    GPA = float(input (\"GPA: \"))\n",
    "    ## view the positions List that has Vacancy to the applicant  \n",
    "    positionsList = [val[\"Name\"] for key, val in positions.items() if \"Name\" in val and int (val[\"jobVacancy\"]) >= 1 ]\n",
    "    positionsList.sort(key=lambda x:x) # using lambda to sort the positions List \n",
    "    print(\"Please select the position from the following positions : \",positionsList)\n",
    "    position = input (\"Position: \")\n",
    "    \n",
    "    while position not in positionsList:  # To make sure the applicant add valid position \n",
    "        print (\"Plese inter a valid position\")\n",
    "        position = input (\"position\")\n",
    "\n",
    "    else:\n",
    "        for d in positions.values():\n",
    "            \n",
    "            if d['Name'] == position:\n",
    "                ## To make sure the applicant's qualification match the reqiured qualification \n",
    "                if d['qualification'] == qualification:  \n",
    "                    \n",
    "                    applicant[id] = {}\n",
    "                    applicant[id]['name'] = name\n",
    "                    applicant[id]['qualification'] = qualification\n",
    "                    applicant[id]['GPA'] = GPA\n",
    "                    applicant[id]['position'] = position\n",
    "                    applicant[id]['status'] = \"N\" ## Default value N : not hired yet , Y : hired \n",
    "                    return (applicant , True)\n",
    "                \n",
    "                else:\n",
    "                    \n",
    "                    print (\"Your qualification does not match the required qualification for this position \")\n",
    "                    return (applicant , False)\n",
    "\n",
    "\n",
    "        \n",
    "    \n",
    "    "
   ]
  },
  {
   "cell_type": "code",
   "execution_count": 276,
   "metadata": {
    "scrolled": true
   },
   "outputs": [
    {
     "name": "stdout",
     "output_type": "stream",
     "text": [
      "Name: Razan\n",
      "qualification: Bachelor\n",
      "GPA: 4\n",
      "['HR Manager', 'IT Specialist', 'Sales Specialist', 'Procurments Specialist', 'Database Administrator', 'Business Analyst', 'Programmer']\n",
      "Please select the position from the following positions :  ['Business Analyst', 'Database Administrator', 'HR Manager', 'IT Specialist', 'Procurments Specialist', 'Programmer', 'Sales Specialist']\n",
      "Position: Programmer\n",
      "{1: {'name': 'Deema', 'qualification': 'Master', 'GPA': 5.0, 'position': 'HR Manager', 'status': 'Y'}, 2: {'name': 'Muna', 'qualification': 'Bachelor', 'GPA': 4.0, 'position': 'IT Specialist', 'status': 'N'}, 4: {'name': 'Muhammed', 'qualification': 'Master', 'GPA': 5.0, 'position': 'HR Manager', 'status': 'N'}, 5: {'name': 'Nora', 'qualification': 'Master', 'GPA': 4.5, 'position': 'HR Manager', 'status': 'N'}, 7: {'name': 'Khaled', 'qualification': 'Bachelor', 'GPA': 4.0, 'position': 'Translator', 'status': 'N'}, 8: {'name': 'Ahmed', 'qualification': 'Bachelor', 'GPA': 5.0, 'position': 'Translator', 'status': 'Y'}, 9: {'name': 'Roa', 'qualification': 'Bachelor', 'GPA': 4.8, 'position': 'Translator', 'status': 'N'}, 11: {'name': 'Asmaa', 'qualification': 'Master', 'GPA': 3.8, 'position': 'HR Manager', 'status': 'N'}, 12: {'name': 'Razan', 'qualification': 'Bachelor', 'GPA': 4.0, 'position': 'Programmer', 'status': 'N'}}\n"
     ]
    }
   ],
   "source": [
    "## Calling addApplicant function \n",
    "lis  , appStatus = addApplicant ()\n",
    "print (lis)\n",
    "if appStatus:\n",
    "    id = [*applicant.keys()][-1] +1  ## increment ID by getting the last key (id) + 1 "
   ]
  },
  {
   "cell_type": "code",
   "execution_count": 293,
   "metadata": {},
   "outputs": [],
   "source": [
    "### the list of applicants will be automatically sorted to remove the applicants with a GPA of less than 3.5\n",
    "def runTheSorting():\n",
    "    \n",
    "    applicantCpoy = applicant.copy()\n",
    "    for appId , appInfo in applicantCpoy.items():\n",
    "        for key in appInfo:\n",
    "            if key == \"GPA\" and appInfo[key] < 3.5:\n",
    "                del applicant[appId]\n",
    "    return (applicant)           "
   ]
  },
  {
   "cell_type": "code",
   "execution_count": 298,
   "metadata": {
    "scrolled": true
   },
   "outputs": [
    {
     "name": "stdout",
     "output_type": "stream",
     "text": [
      "{1: {'name': 'Deema', 'qualification': 'Master', 'GPA': 5.0, 'position': 'HR Manager', 'status': 'Y'}, 2: {'name': 'Muna', 'qualification': 'Bachelor', 'GPA': 4.0, 'position': 'IT Specialist', 'status': 'N'}, 4: {'name': 'Muhammed', 'qualification': 'Master', 'GPA': 5.0, 'position': 'HR Manager', 'status': 'N'}, 5: {'name': 'Nora', 'qualification': 'Master', 'GPA': 4.5, 'position': 'HR Manager', 'status': 'N'}, 7: {'name': 'Khaled', 'qualification': 'Bachelor', 'GPA': 4.0, 'position': 'Translator', 'status': 'N'}, 8: {'name': 'Ahmed', 'qualification': 'Bachelor', 'GPA': 5.0, 'position': 'Translator', 'status': 'Y'}, 9: {'name': 'Roa', 'qualification': 'Bachelor', 'GPA': 4.8, 'position': 'Translator', 'status': 'N'}, 11: {'name': 'Asmaa', 'qualification': 'Master', 'GPA': 3.8, 'position': 'HR Manager', 'status': 'N'}, 12: {'name': 'Razan', 'qualification': 'Bachelor', 'GPA': 4.0, 'position': 'Programmer', 'status': 'N'}}\n"
     ]
    }
   ],
   "source": [
    "## calling runTheSorting function \n",
    "applicantList = runTheSorting()\n",
    "print (applicantList)"
   ]
  },
  {
   "cell_type": "code",
   "execution_count": 295,
   "metadata": {},
   "outputs": [
    {
     "name": "stdout",
     "output_type": "stream",
     "text": [
      "{'name': 'Deema', 'qualification': 'Master', 'GPA': 5.0, 'position': 'HR Manager', 'status': 'Y'}\n",
      "{'name': 'Muhammed', 'qualification': 'Master', 'GPA': 5.0, 'position': 'HR Manager', 'status': 'N'}\n",
      "{'name': 'Nora', 'qualification': 'Master', 'GPA': 4.5, 'position': 'HR Manager', 'status': 'N'}\n",
      "{'name': 'Ahmed', 'qualification': 'Bachelor', 'GPA': 5.0, 'position': 'Translator', 'status': 'Y'}\n",
      "{'name': 'Roa', 'qualification': 'Bachelor', 'GPA': 4.8, 'position': 'Translator', 'status': 'N'}\n"
     ]
    }
   ],
   "source": [
    "## View applicants with a GPA of above 4\n",
    "applicantCpoy2 = applicant.copy()\n",
    "for appId , appInfo in applicantCpoy2.items():\n",
    "    for key in appInfo:\n",
    "     if key == \"GPA\" and appInfo[key] > 4:\n",
    "         print (applicant[appId])\n",
    "  "
   ]
  },
  {
   "cell_type": "code",
   "execution_count": 297,
   "metadata": {},
   "outputs": [
    {
     "name": "stdout",
     "output_type": "stream",
     "text": [
      "Please inter the position name : Translator\n",
      "{'name': 'Ahmed', 'qualification': 'Bachelor', 'GPA': 5.0, 'position': 'Translator', 'status': 'Y'}\n",
      "{'name': 'Roa', 'qualification': 'Bachelor', 'GPA': 4.8, 'position': 'Translator', 'status': 'N'}\n"
     ]
    }
   ],
   "source": [
    "## View applicants with a GPA of above 4 by inserting a specific job position\n",
    "applicantCpoy3 = applicant.copy()\n",
    "positionInput = input(\"Please inter the position name : \")\n",
    "for appId , appInfo in applicantCpoy3.items():\n",
    "    for key in appInfo:\n",
    "     if key == \"position\" and  appInfo[\"position\"] == positionInput and appInfo[\"GPA\"] > 4 :\n",
    "         print (applicant[appId])"
   ]
  },
  {
   "cell_type": "code",
   "execution_count": 275,
   "metadata": {},
   "outputs": [
    {
     "name": "stdout",
     "output_type": "stream",
     "text": [
      "{1: {'name': 'Deema', 'qualification': 'Master', 'GPA': 5.0, 'position': 'HR Manager', 'status': 'Y'}, 2: {'name': 'Muna', 'qualification': 'Bachelor', 'GPA': 4.0, 'position': 'IT Specialist', 'status': 'N'}, 4: {'name': 'Muhammed', 'qualification': 'Master', 'GPA': 5.0, 'position': 'HR Manager', 'status': 'N'}, 5: {'name': 'Nora', 'qualification': 'Master', 'GPA': 4.5, 'position': 'HR Manager', 'status': 'N'}, 7: {'name': 'Khaled', 'qualification': 'Bachelor', 'GPA': 4.0, 'position': 'Translator', 'status': 'N'}, 8: {'name': 'Ahmed', 'qualification': 'Bachelor', 'GPA': 5.0, 'position': 'Translator', 'status': 'N'}, 9: {'name': 'Roa', 'qualification': 'Bachelor', 'GPA': 4.8, 'position': 'Translator', 'status': 'N'}, 11: {'name': 'Asmaa', 'qualification': 'Master', 'GPA': 3.8, 'position': 'HR Manager', 'status': 'N'}}\n",
      "Please inter the ID of applicant: 8\n",
      "{'name': 'Ahmed', 'qualification': 'Bachelor', 'GPA': 5.0, 'position': 'Translator', 'status': 'Y'}\n",
      "{'Name': 'Translator', 'qualification': 'Bachelor', 'jobVacancy': 0}\n"
     ]
    }
   ],
   "source": [
    "#Update applicant status by Recruiter \n",
    "print (applicant)\n",
    "applicantId = int (input (\"Please inter the ID of applicant: \"))\n",
    "applicantCpoy4 = applicant.copy()\n",
    "for appId , appInfo in applicantCpoy4.items():\n",
    "    if appId == applicantId:\n",
    "        applicant[appId]['status'] = 'Y'\n",
    "        break\n",
    "print (applicant[appId])\n",
    "positiontobeUpdated = applicant[appId]['position']\n",
    "\n",
    "## the jobVacancy will be updated automatically and  decreasing the Vacancy by  1  \n",
    "positions2 = positions.copy()\n",
    "for positionId , positionInfo in positions2.items():\n",
    "    for key in positionInfo:\n",
    "     if key == \"Name\" and positionInfo[key] == positiontobeUpdated:\n",
    "        positions[positionId]['jobVacancy'] -=1\n",
    "        print (positions[positionId])\n",
    "        break\n"
   ]
  },
  {
   "cell_type": "code",
   "execution_count": 284,
   "metadata": {
    "scrolled": false
   },
   "outputs": [
    {
     "name": "stdout",
     "output_type": "stream",
     "text": [
      "{1: {'Name': 'HR Manager', 'qualification': 'Master', 'jobVacancy': 1}, 2: {'Name': 'IT Specialist', 'qualification': 'Bachelor', 'jobVacancy': 2}, 3: {'Name': 'Sales Specialist', 'qualification': 'Bachelor', 'jobVacancy': 2}, 4: {'Name': 'Procurments Specialist', 'qualification': 'Bachelor', 'jobVacancy': 3}, 5: {'Name': 'Translator', 'qualification': 'Bachelor', 'jobVacancy': 0}, 6: {'Name': 'Database Administrator', 'qualification': 'Master', 'jobVacancy': 2}, 7: {'Name': 'Web Developer', 'qualification': 'Bachelor', 'jobVacancy': 0}, 8: {'Name': 'Business Analyst', 'qualification': 'Bachelor', 'jobVacancy': 3}, 9: {'Name': 'Programmer', 'qualification': 'Bachelor', 'jobVacancy': '3'}}\n",
      "Please inter the position name: Translator\n",
      "Please inter the job vacancy number: 1\n",
      "{'Name': 'Translator', 'qualification': 'Bachelor', 'jobVacancy': 1}\n"
     ]
    }
   ],
   "source": [
    "## upadte jobVacancy by Recruiter\n",
    "print (positions)\n",
    "_positionName = input (\"Please inter the position name: \")\n",
    "jobVacancy = int (input (\"Please inter the job vacancy number: \"))\n",
    "\n",
    "positions3 = positions.copy()\n",
    "for positionId , positionInfo in positions3.items():\n",
    "    for key in positionInfo:\n",
    "     if key == \"Name\" and positionInfo[key] == _positionName:\n",
    "        positions[positionId]['jobVacancy'] = jobVacancy\n",
    "        print (positions[positionId])\n",
    "        break\n",
    "\n"
   ]
  },
  {
   "cell_type": "code",
   "execution_count": 270,
   "metadata": {},
   "outputs": [
    {
     "name": "stdout",
     "output_type": "stream",
     "text": [
      "Name of the position Programmer\n",
      "The required qualification Bachelor\n",
      "The nubber of job vacancies for this position 3\n",
      "{1: {'Name': 'HR Manager', 'qualification': 'Master', 'jobVacancy': 1}, 2: {'Name': 'IT Specialist', 'qualification': 'Bachelor', 'jobVacancy': 2}, 3: {'Name': 'Sales Specialist', 'qualification': 'Bachelor', 'jobVacancy': 2}, 4: {'Name': 'Procurments Specialist', 'qualification': 'Bachelor', 'jobVacancy': 3}, 5: {'Name': 'Translator', 'qualification': 'Bachelor', 'jobVacancy': 1}, 6: {'Name': 'Database Administrator', 'qualification': 'Master', 'jobVacancy': 2}, 7: {'Name': 'Web Developer', 'qualification': 'Bachelor', 'jobVacancy': 0}, 8: {'Name': 'Business Analyst', 'qualification': 'Bachelor', 'jobVacancy': 3}, 9: {'Name': 'Programmer', 'qualification': 'Bachelor', 'jobVacancy': '3'}}\n"
     ]
    }
   ],
   "source": [
    "## Add new position by Recruiter\n",
    "name = input(\"Name of the position: \")\n",
    "qualification = input (\"The required qualification: \")\n",
    "jobVacancy = input (\"The number of job vacancies for this position: \")\n",
    "positionId =len(positions) + 1\n",
    "positions[positionId] = {}\n",
    "positions[positionId]['Name'] = name\n",
    "positions[positionId]['qualification'] = qualification\n",
    "positions[positionId]['jobVacancy'] = jobVacancy\n",
    "\n",
    "print (positions)\n"
   ]
  }
 ],
 "metadata": {
  "kernelspec": {
   "display_name": "Python 3",
   "language": "python",
   "name": "python3"
  },
  "language_info": {
   "codemirror_mode": {
    "name": "ipython",
    "version": 3
   },
   "file_extension": ".py",
   "mimetype": "text/x-python",
   "name": "python",
   "nbconvert_exporter": "python",
   "pygments_lexer": "ipython3",
   "version": "3.7.6"
  }
 },
 "nbformat": 4,
 "nbformat_minor": 4
}
